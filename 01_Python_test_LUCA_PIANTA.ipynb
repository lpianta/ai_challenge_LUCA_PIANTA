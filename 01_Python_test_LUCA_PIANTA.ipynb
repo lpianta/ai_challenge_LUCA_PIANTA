{
 "cells": [
  {
   "cell_type": "markdown",
   "metadata": {},
   "source": [
    "# AI Engineering Python Exam\n",
    "\n",
    "\n",
    "Dear Applicant, \n",
    "\n",
    "As a next step, we would like to invite you to answer some technical questions before the interview in order to make sure the technical requirements for the course are meet. Having candidates which meet this criteria is essential in order to deliver on the promice of you all getting a good job position after this one finishes.\n",
    "\n",
    "In this assignment you will complete a Jupyter notebook (`01_Python_test_NAME_SURNAME.ipynb` file) with a number of function definitions. Do **not** submit a python file or any other format. Independently of your working environment, copy the final code and results in the notebook. \n",
    "\n",
    "## Instructions \n",
    "\n",
    " - The estimated duration of the assignment is **1h approx**. If it is your first time with Python, maybe a bit more. \n",
    " - You will see that not all the instructions are given to complete an exercise. Show us how you tackle uncertain problems ;)\n",
    " - Make sure to replicate the expected results in your own code cell, feel free to add extra cases. \n",
    "\n",
    "### A comment on Honesty and Copying\n",
    "\n",
    "This is an individual assignment. You **are** allowed to look up specific coding syntax questions and answers on Stack Overflow and similar websites and adapt them, but you **are not allowed to copy and paste entire solutions** into your submission. As a rule of thumb, do not copy and paste from the internet anything larger than one line of code into your submission.\n",
    "\n",
    "We receive hundreds of admission tests and **run automated testing to identify similar code**. If you cheat, not only will you get caught, but you are not the type of person that would finish the course in the first place. We are looking for people that can learn and improve on a daily basis. \n",
    "\n",
    "\n",
    "# Tasks\n",
    "\n",
    "## Task 0 (example)\n",
    "\n",
    "Define the function ``average`` which takes an array of numbers and returns\n",
    "the arithmetic mean of them. The function should work like this:"
   ]
  },
  {
   "cell_type": "code",
   "execution_count": 2,
   "metadata": {},
   "outputs": [
    {
     "ename": "NameError",
     "evalue": "name 'average' is not defined",
     "output_type": "error",
     "traceback": [
      "\u001b[0;31m---------------------------------------------------------------------------\u001b[0m",
      "\u001b[0;31mNameError\u001b[0m                                 Traceback (most recent call last)",
      "\u001b[0;32m<ipython-input-2-5df83cd03146>\u001b[0m in \u001b[0;36m<module>\u001b[0;34m\u001b[0m\n\u001b[1;32m      2\u001b[0m \u001b[0ma\u001b[0m \u001b[0;34m=\u001b[0m \u001b[0mnumpy\u001b[0m\u001b[0;34m.\u001b[0m\u001b[0marray\u001b[0m\u001b[0;34m(\u001b[0m\u001b[0;34m[\u001b[0m\u001b[0;36m1.0\u001b[0m\u001b[0;34m,\u001b[0m \u001b[0;36m2.0\u001b[0m\u001b[0;34m,\u001b[0m \u001b[0;36m3.0\u001b[0m\u001b[0;34m]\u001b[0m\u001b[0;34m)\u001b[0m\u001b[0;34m\u001b[0m\u001b[0;34m\u001b[0m\u001b[0m\n\u001b[1;32m      3\u001b[0m \u001b[0mb\u001b[0m \u001b[0;34m=\u001b[0m \u001b[0mnumpy\u001b[0m\u001b[0;34m.\u001b[0m\u001b[0mones\u001b[0m\u001b[0;34m(\u001b[0m\u001b[0;34m(\u001b[0m\u001b[0;36m2\u001b[0m\u001b[0;34m,\u001b[0m\u001b[0;36m3\u001b[0m\u001b[0;34m)\u001b[0m\u001b[0;34m)\u001b[0m\u001b[0;34m\u001b[0m\u001b[0;34m\u001b[0m\u001b[0m\n\u001b[0;32m----> 4\u001b[0;31m \u001b[0mprint\u001b[0m\u001b[0;34m(\u001b[0m\u001b[0maverage\u001b[0m\u001b[0;34m(\u001b[0m\u001b[0ma\u001b[0m\u001b[0;34m)\u001b[0m\u001b[0;34m)\u001b[0m\u001b[0;34m\u001b[0m\u001b[0;34m\u001b[0m\u001b[0m\n\u001b[0m\u001b[1;32m      5\u001b[0m \u001b[0mprint\u001b[0m\u001b[0;34m(\u001b[0m\u001b[0maverage\u001b[0m\u001b[0;34m(\u001b[0m\u001b[0mb\u001b[0m\u001b[0;34m)\u001b[0m\u001b[0;34m)\u001b[0m\u001b[0;34m\u001b[0m\u001b[0;34m\u001b[0m\u001b[0m\n",
      "\u001b[0;31mNameError\u001b[0m: name 'average' is not defined"
     ]
    }
   ],
   "source": [
    "import numpy\n",
    "a = numpy.array([1.0, 2.0, 3.0])\n",
    "b = numpy.ones((2,3))\n",
    "print(average(a))\n",
    "print(average(b))"
   ]
  },
  {
   "cell_type": "markdown",
   "metadata": {},
   "source": [
    "### Solution:    "
   ]
  },
  {
   "cell_type": "code",
   "execution_count": 3,
   "metadata": {},
   "outputs": [],
   "source": [
    "def average(x):\n",
    "      return x.mean()"
   ]
  },
  {
   "cell_type": "code",
   "execution_count": 4,
   "metadata": {},
   "outputs": [
    {
     "name": "stdout",
     "output_type": "stream",
     "text": [
      "2.0\n",
      "1.0\n"
     ]
    }
   ],
   "source": [
    "# Now we can re-run the code\n",
    "print(average(a))\n",
    "print(average(b))"
   ]
  },
  {
   "cell_type": "markdown",
   "metadata": {},
   "source": [
    "## Task 1\n",
    "\n",
    "Write a function ``cashier`` that classifies a given amount of money, **specified in cents**, as greater monetary units. Your code lists the monetary equivalent in dollars (100 ct), quarters (25 ct), dimes (10 ct), nickels (5 ct), and pennies (1 ct). Your program should report the maximum number of dollars that fit in the amount, then the maximum number of quarters that fit in the remainder after you subtract the dollars, then the maximum number of dimes that fit in the remainder, and store all this information into a dictionary.\n",
    "\n",
    "Please complete the definition of the function. Here is what you can assume about this function:\n",
    "* The input parameter `amount` is a non-negative int value. \n",
    "* The function `cashier` must return a dictionary with the following structure:<br>\n",
    "  {\n",
    "      'dollars': dollars_count,\n",
    "      'quarters': quarters_count,\n",
    "      'dimes': dimes_count,\n",
    "      'nickels': nickels_count,\n",
    "      'pennies': pennies_count\n",
    "  }\n",
    "\n",
    "### Expected results:"
   ]
  },
  {
   "cell_type": "code",
   "execution_count": 5,
   "metadata": {},
   "outputs": [
    {
     "data": {
      "text/plain": [
       "{'dollars': 11, 'quarters': 2, 'dimes': 0, 'nickels': 1, 'pennies': 1}"
      ]
     },
     "execution_count": 5,
     "metadata": {},
     "output_type": "execute_result"
    }
   ],
   "source": [
    "cashier(1156)"
   ]
  },
  {
   "cell_type": "markdown",
   "metadata": {},
   "source": [
    "### Your turn 👩‍💻🚀👨‍💻"
   ]
  },
  {
   "cell_type": "code",
   "execution_count": 2,
   "metadata": {},
   "outputs": [
    {
     "output_type": "stream",
     "name": "stdout",
     "text": [
      "{'dollars': 11, 'quarters': 2, 'dimes': 0, 'nickels': 1, 'pennies': 1}\n"
     ]
    }
   ],
   "source": [
    "# Write your code in this cell:\n",
    "def cashier(num):\n",
    "    #basic function settings\n",
    "    import math\n",
    "    cents = num\n",
    "\n",
    "    #calculate dollars\n",
    "    dollars_count = math.floor(cents / 100)\n",
    "\n",
    "    #calculate pennies left\n",
    "    dollarsChanges = cents % 100\n",
    "\n",
    "    #calculate quarters\n",
    "    quarters_count = math.floor(dollarsChanges / 25)\n",
    "\n",
    "    #calculate pennies left\n",
    "    quartersChanges = dollarsChanges % 25\n",
    "\n",
    "    #calculate dimes\n",
    "    dimes_count = math.floor(quartersChanges / 10)\n",
    "\n",
    "    #calculate pennies left\n",
    "    dimesChanges = quartersChanges % 10\n",
    "\n",
    "    #calculate nickels\n",
    "    nickels_count = math.floor(dimesChanges /5)\n",
    "\n",
    "    #calculate pennies\n",
    "    pennies_count = dimesChanges % 5\n",
    "\n",
    "    #dictionary\n",
    "    cashier_dict = {\n",
    "        'dollars': dollars_count,\n",
    "        'quarters': quarters_count,\n",
    "        'dimes': dimes_count,\n",
    "        'nickels': nickels_count,\n",
    "        'pennies': pennies_count\n",
    "    }\n",
    "\n",
    "    print(cashier_dict)\n",
    "\n",
    "cashier(1156)"
   ]
  },
  {
   "cell_type": "markdown",
   "metadata": {},
   "source": [
    "## Task 2\n",
    "\n",
    "Grades are values between zero and 10 (both zero and 10 included), and are always rounded to the nearest half point. To translate grades to the American style, 8.5 to 10 become an \"A\", 7.5 and 8 become a \"B\", 6.5 and 7 become a \"C\", 5.5 and 6 become a \"D\", and other grades become an \"F\".\n",
    "\n",
    "Write a function `convert_grades` that implements this translation and returns the American translation of the value in the parameter grade. If grade is lower than zero or higher than 10, the function throws an error with the message \"Grades must be values between 0 and 10.\". In the case of input grades that do not end in .0 or .5, you first need to round the grade to the nearest half point.\n",
    "\n",
    "Please complete the definition of the function. Here is what you can assume about this function:\n",
    "* The input parameter `grade` is a float value between 0 and 10 (both included). \n",
    "* The function `convert_grades` must return a char with the correct grade, in case of a valid input, or it must raise an exception in case of not valid input.\n",
    "\n",
    "### Expected results:"
   ]
  },
  {
   "cell_type": "code",
   "execution_count": 3,
   "metadata": {},
   "outputs": [
    {
     "data": {
      "text/plain": [
       "'A'"
      ]
     },
     "execution_count": 3,
     "metadata": {},
     "output_type": "execute_result"
    }
   ],
   "source": [
    "convert_grades(9.0)"
   ]
  },
  {
   "cell_type": "code",
   "execution_count": 4,
   "metadata": {},
   "outputs": [
    {
     "data": {
      "text/plain": [
       "'B'"
      ]
     },
     "execution_count": 4,
     "metadata": {},
     "output_type": "execute_result"
    }
   ],
   "source": [
    "convert_grades(7.7)"
   ]
  },
  {
   "cell_type": "code",
   "execution_count": 5,
   "metadata": {},
   "outputs": [
    {
     "ename": "Exception",
     "evalue": "Grades must be values between 0 and 10.",
     "output_type": "error",
     "traceback": [
      "\u001b[0;31m---------------------------------------------------------------------------\u001b[0m",
      "\u001b[0;31mException\u001b[0m                                 Traceback (most recent call last)",
      "\u001b[0;32m<ipython-input-15-d57efcc5ce06>\u001b[0m in \u001b[0;36m<module>\u001b[0;34m\u001b[0m\n\u001b[0;32m----> 1\u001b[0;31m \u001b[0mconvert_grades\u001b[0m\u001b[0;34m(\u001b[0m\u001b[0;36m11.5\u001b[0m\u001b[0;34m)\u001b[0m\u001b[0;34m\u001b[0m\u001b[0;34m\u001b[0m\u001b[0m\n\u001b[0m",
      "\u001b[0;32m<ipython-input-14-eb84997bff8d>\u001b[0m in \u001b[0;36mconvert_grades\u001b[0;34m(n)\u001b[0m\n\u001b[1;32m      1\u001b[0m \u001b[0;32mdef\u001b[0m \u001b[0mconvert_grades\u001b[0m\u001b[0;34m(\u001b[0m\u001b[0mn\u001b[0m\u001b[0;34m)\u001b[0m\u001b[0;34m:\u001b[0m\u001b[0;34m\u001b[0m\u001b[0;34m\u001b[0m\u001b[0m\n\u001b[0;32m----> 2\u001b[0;31m     \u001b[0;32mraise\u001b[0m \u001b[0mException\u001b[0m\u001b[0;34m(\u001b[0m\u001b[0;34m'Grades must be values between 0 and 10.'\u001b[0m\u001b[0;34m)\u001b[0m\u001b[0;34m\u001b[0m\u001b[0;34m\u001b[0m\u001b[0m\n\u001b[0m",
      "\u001b[0;31mException\u001b[0m: Grades must be values between 0 and 10."
     ]
    }
   ],
   "source": [
    "convert_grades(11.5)"
   ]
  },
  {
   "cell_type": "markdown",
   "metadata": {},
   "source": [
    "### Your turn 👩‍💻🚀👨‍💻"
   ]
  },
  {
   "cell_type": "code",
   "execution_count": 3,
   "metadata": {},
   "outputs": [
    {
     "output_type": "stream",
     "name": "stdout",
     "text": [
      "A\nB\n"
     ]
    },
    {
     "output_type": "error",
     "ename": "Exception",
     "evalue": "Grades must be values between 0 and 10",
     "traceback": [
      "\u001b[1;31m---------------------------------------------------------------------------\u001b[0m",
      "\u001b[1;31mException\u001b[0m                                 Traceback (most recent call last)",
      "\u001b[1;32m<ipython-input-3-5142241c6091>\u001b[0m in \u001b[0;36m<module>\u001b[1;34m\u001b[0m\n\u001b[0;32m     28\u001b[0m \u001b[0mconvert_grades\u001b[0m\u001b[1;33m(\u001b[0m\u001b[1;36m9.0\u001b[0m\u001b[1;33m)\u001b[0m\u001b[1;33m;\u001b[0m\u001b[1;33m\u001b[0m\u001b[1;33m\u001b[0m\u001b[0m\n\u001b[0;32m     29\u001b[0m \u001b[0mconvert_grades\u001b[0m\u001b[1;33m(\u001b[0m\u001b[1;36m7.7\u001b[0m\u001b[1;33m)\u001b[0m\u001b[1;33m;\u001b[0m\u001b[1;33m\u001b[0m\u001b[1;33m\u001b[0m\u001b[0m\n\u001b[1;32m---> 30\u001b[1;33m \u001b[0mconvert_grades\u001b[0m\u001b[1;33m(\u001b[0m\u001b[1;36m11.5\u001b[0m\u001b[1;33m)\u001b[0m\u001b[1;33m;\u001b[0m\u001b[1;33m\u001b[0m\u001b[1;33m\u001b[0m\u001b[0m\n\u001b[0m",
      "\u001b[1;32m<ipython-input-3-5142241c6091>\u001b[0m in \u001b[0;36mconvert_grades\u001b[1;34m(grade)\u001b[0m\n\u001b[0;32m     23\u001b[0m   \u001b[1;31m#excpetion in case of invalid input\u001b[0m\u001b[1;33m\u001b[0m\u001b[1;33m\u001b[0m\u001b[1;33m\u001b[0m\u001b[0m\n\u001b[0;32m     24\u001b[0m   \u001b[1;32melse\u001b[0m\u001b[1;33m:\u001b[0m\u001b[1;33m\u001b[0m\u001b[1;33m\u001b[0m\u001b[0m\n\u001b[1;32m---> 25\u001b[1;33m     \u001b[1;32mraise\u001b[0m \u001b[0mException\u001b[0m\u001b[1;33m(\u001b[0m\u001b[1;34m'Grades must be values between 0 and 10'\u001b[0m\u001b[1;33m)\u001b[0m\u001b[1;33m\u001b[0m\u001b[1;33m\u001b[0m\u001b[0m\n\u001b[0m\u001b[0;32m     26\u001b[0m \u001b[1;33m\u001b[0m\u001b[0m\n\u001b[0;32m     27\u001b[0m \u001b[1;33m\u001b[0m\u001b[0m\n",
      "\u001b[1;31mException\u001b[0m: Grades must be values between 0 and 10"
     ]
    }
   ],
   "source": [
    "# Write your code in this cell:\n",
    "def convert_grades(grade):\n",
    "\n",
    "  #rounding number to .0 or .5, code works without this too but it was asked in the assignment\n",
    "  grade = round(grade * 2) / 2\n",
    "\n",
    "  #convertion talbe\n",
    "  if grade < 5.5:\n",
    "    print('F'); \n",
    "  \n",
    "  elif grade >= 8.5 and grade <= 10:\n",
    "    print('A');\n",
    "  \n",
    "  elif grade >= 7.5 and grade <= 8:\n",
    "    print('B');\n",
    "  \n",
    "  elif grade >= 6.5 and grade <= 7:\n",
    "    print('C');\n",
    "  \n",
    "  elif grade >= 5.5 and grade <= 6:\n",
    "    print('D')\n",
    "  \n",
    "  #excpetion in case of invalid input\n",
    "  else:\n",
    "    raise Exception('Grades must be values between 0 and 10')\n",
    "\n",
    "\n",
    "convert_grades(9.0);\n",
    "convert_grades(7.7);\n",
    "convert_grades(11.5);"
   ]
  },
  {
   "cell_type": "markdown",
   "metadata": {},
   "source": [
    "## Task 3\n",
    "\n",
    "Define a function `count_vowels` that receives a string parameter, and returns an integer indicating how many different vowels there are in the string. The capital version of a lower case vowel is considered to be the same vowel. y is not considered a vowel. For example, for the string \"Michael Palin\", the function should return  a dictionary with the count for each of the different vowels.\n",
    "\n",
    "Please complete the definition of the function. Here is what you can assume about this function:\n",
    "* The input parameter `text` is a string text. \n",
    "* The function `count_vowels` must return an dictionary with each different vowel and its counts in the input text.\n",
    "\n",
    "### Expected results:"
   ]
  },
  {
   "cell_type": "code",
   "execution_count": 3,
   "metadata": {},
   "outputs": [
    {
     "name": "stdout",
     "output_type": "stream",
     "text": [
      "{'a': 2, 'e': 1, 'i': 2, 'o': 0, 'u': 0}\n"
     ]
    }
   ],
   "source": [
    "count_vowels(\"Michael Palin\")"
   ]
  },
  {
   "cell_type": "markdown",
   "metadata": {},
   "source": [
    "### Your turn 👩‍💻🚀👨‍💻"
   ]
  },
  {
   "cell_type": "code",
   "execution_count": 4,
   "metadata": {},
   "outputs": [
    {
     "output_type": "stream",
     "name": "stdout",
     "text": [
      "{'a': 2, 'e': 1, 'i': 2, 'o': 0, 'u': 0}\n"
     ]
    }
   ],
   "source": [
    "# Write your code in this cell:\n",
    "def count_vowels(str):\n",
    "\n",
    "    #start conditions\n",
    "    a_count = 0\n",
    "    e_count = 0\n",
    "    i_count = 0\n",
    "    o_count = 0\n",
    "    u_count = 0\n",
    "\n",
    "    #loop\n",
    "    for letter in str:\n",
    "        if letter == 'a' or letter == 'A':              #a counting\n",
    "            a_count += 1\n",
    "        elif letter == 'e' or letter == 'E':            #e counting\n",
    "            e_count += 1\n",
    "        elif letter == 'i' or letter == 'I':            #i counting\n",
    "            i_count += 1\n",
    "        elif letter == 'o' or letter == 'O':            #o counting\n",
    "            o_count +=  1\n",
    "        elif letter == 'u' or letter == 'U':            #u counting\n",
    "            u_count += 1\n",
    "\n",
    "    #dictionary\n",
    "    vowel_dict = {\n",
    "        'a': a_count,\n",
    "        'e': e_count,\n",
    "        'i': i_count,\n",
    "        'o': o_count,\n",
    "        'u': u_count\n",
    "    }\n",
    "\n",
    "    print(vowel_dict)\n",
    "\n",
    "\n",
    "count_vowels('Michael Palin')"
   ]
  },
  {
   "cell_type": "markdown",
   "metadata": {},
   "source": [
    "## Task 4\n",
    "A prime number is a positive integer that is dividable by exactly two different numbers, namely 1 and itself. The lowest (and only even) prime number is 2. The first 10 prime numbers are 2, 3, 5, 7, 11, 13, 17, 19, 23, and 29. Write a function that returns True if its parameter is a prime number, and False otherwise. Hint: In a loop where you test the possible dividers of the number, you can conclude that the number is not prime as soon as you encounter a number other than 1 or the number itself that divides it. However, you can only conclude that it actually is prime after you have tested all possible dividers.\n",
    "\n",
    "Please complete the definition of the function. Here is what you can assume about this function:\n",
    "* The input parameter `number` is a positive int. \n",
    "* The function `is_prime` must return the boolean value `True` if the parameter is a prime number, and the boolean value `False` otherwise.\n",
    "\n",
    "### Expected results:"
   ]
  },
  {
   "cell_type": "code",
   "execution_count": 7,
   "metadata": {},
   "outputs": [
    {
     "data": {
      "text/plain": [
       "True"
      ]
     },
     "execution_count": 7,
     "metadata": {},
     "output_type": "execute_result"
    }
   ],
   "source": [
    "is_prime(29)"
   ]
  },
  {
   "cell_type": "code",
   "execution_count": 8,
   "metadata": {},
   "outputs": [
    {
     "data": {
      "text/plain": [
       "False"
      ]
     },
     "execution_count": 8,
     "metadata": {},
     "output_type": "execute_result"
    }
   ],
   "source": [
    "is_prime(15)"
   ]
  },
  {
   "cell_type": "markdown",
   "metadata": {},
   "source": [
    "### Your turn 👩‍💻🚀👨‍💻"
   ]
  },
  {
   "cell_type": "code",
   "execution_count": 13,
   "metadata": {},
   "outputs": [
    {
     "output_type": "execute_result",
     "data": {
      "text/plain": [
       "False"
      ]
     },
     "metadata": {},
     "execution_count": 13
    }
   ],
   "source": [
    "# Write your code in this cell:\n",
    "def is_prime(num):\n",
    "\n",
    "    #check if number is positive\n",
    "    if num <= 1:\n",
    "        return(False)\n",
    "\n",
    "    #check if the input can be divided by any number between 2 and himself    \n",
    "    else:\n",
    "        for i in range(2, num):\n",
    "            if num % i == 0:\n",
    "                return(False)\n",
    "                break\n",
    "    return(True)\n",
    "\n",
    "is_prime(15)"
   ]
  },
  {
   "cell_type": "markdown",
   "metadata": {},
   "source": [
    "### Task 5 \n",
    "\n",
    "Write a program that takes a text as input, splits it into words (where everything that is not a letter is considered a word boundary), and case-insensitively builds a dictionary that stores for every word how often it occurs in the text. Then return the dictionary containing all the words with their quantities sorted in alphabetical order.\n",
    "\n",
    "Please complete the definition of the function. Here is what you can assume about this function:<br>\n",
    "* The input parameter `text` is a string text.\n",
    "* The function `count_words` as a dictionary of all the words with their quantities. \n",
    "* BONUS: The function `count_words` a list of tuples containing the dictionary pairs (keys and values) of all the words with their quantities sorted in alphabetical order. Note that sorting it will prove to be an additional challenge. \n",
    "\n",
    "### Expected results:"
   ]
  },
  {
   "cell_type": "code",
   "execution_count": null,
   "metadata": {},
   "outputs": [],
   "source": []
  },
  {
   "cell_type": "code",
   "execution_count": 10,
   "metadata": {},
   "outputs": [],
   "source": [
    "text = \"\"\"How much wood would a woodchuck chuck\n",
    "If a woodchuck could chuck wood?\n",
    "He would chuck, he would, as much as he could,\n",
    "And chuck as much as a woodchuck would\n",
    "If a woodchuck could chuck wood.\"\"\"\n",
    "\n",
    "### Alternative option\n",
    "text_2 = \"\"\"How much code could a coder from coding company code\n",
    "If a code could code Python?\n",
    "He or she would code, he or she would, as much as he or she could,\n",
    "And code as much as a coder would\n",
    "If a coder could code Python.\"\"\"\n",
    "\n",
    "def count_words(text):\n",
    "    \"\"\"Build a dictionary showing how many words each word exists in a text\"\"\""
   ]
  },
  {
   "cell_type": "code",
   "execution_count": 11,
   "metadata": {},
   "outputs": [
    {
     "data": {
      "text/plain": [
       "{'a': 4,\n",
       " 'and': 1,\n",
       " 'as': 4,\n",
       " 'chuck': 5,\n",
       " 'could': 3,\n",
       " 'he': 3,\n",
       " 'how': 1,\n",
       " 'if': 2,\n",
       " 'much': 3,\n",
       " 'wood': 3,\n",
       " 'woodchuck': 4,\n",
       " 'would': 4}"
      ]
     },
     "execution_count": 11,
     "metadata": {},
     "output_type": "execute_result"
    }
   ],
   "source": [
    "count_words(text)"
   ]
  },
  {
   "cell_type": "code",
   "execution_count": 12,
   "metadata": {},
   "outputs": [
    {
     "data": {
      "text/plain": [
       "{'a': 4,\n",
       " 'and': 1,\n",
       " 'as': 4,\n",
       " 'code': 7,\n",
       " 'coder': 3,\n",
       " 'coding': 1,\n",
       " 'company': 1,\n",
       " 'could': 4,\n",
       " 'from': 1,\n",
       " 'he': 3,\n",
       " 'how': 1,\n",
       " 'if': 2,\n",
       " 'much': 3,\n",
       " 'or': 3,\n",
       " 'python': 2,\n",
       " 'she': 3,\n",
       " 'would': 3}"
      ]
     },
     "execution_count": 12,
     "metadata": {},
     "output_type": "execute_result"
    }
   ],
   "source": [
    "count_words(text_2)"
   ]
  },
  {
   "cell_type": "markdown",
   "metadata": {},
   "source": [
    "### Your turn 👩‍💻🚀👨‍💻"
   ]
  },
  {
   "cell_type": "code",
   "execution_count": 17,
   "metadata": {},
   "outputs": [
    {
     "output_type": "execute_result",
     "data": {
      "text/plain": [
       "[('', 5),\n",
       " ('a', 4),\n",
       " ('and', 1),\n",
       " ('as', 4),\n",
       " ('chuck', 5),\n",
       " ('could', 3),\n",
       " ('he', 3),\n",
       " ('how', 1),\n",
       " ('if', 2),\n",
       " ('much', 3),\n",
       " ('wood', 3),\n",
       " ('woodchuck', 4),\n",
       " ('would', 4)]"
      ]
     },
     "metadata": {},
     "execution_count": 17
    }
   ],
   "source": [
    "# Write your code in this cell:\n",
    "def count_words(str):\n",
    "\n",
    "    #make the program case-insensitive\n",
    "    str = str.lower()\n",
    "\n",
    "    #break the string into single words\n",
    "    import re\n",
    "    str = re.split('\\W', str)\n",
    "\n",
    "    #dictionary\n",
    "    word_dict = {}\n",
    "\n",
    "    #loop through the string\n",
    "    for word in str:\n",
    "\n",
    "        #add 1 to the word count if the word is already in the dictionary\n",
    "        if word in word_dict:\n",
    "            word_dict[word] += 1\n",
    "        \n",
    "        #create a new entry in the dictionary with value 1 if the word wasn't already there\n",
    "        else:\n",
    "            word_dict[word] = 1\n",
    "\n",
    "    #BONUS: Assign the dictionary elements to a list of tuples\n",
    "    words_list = list(word_dict.items())\n",
    "    \n",
    "    #BONUS: Sorting the list in alphabetical order\n",
    "    words_list.sort()\n",
    "\n",
    "\n",
    "    return words_list\n",
    "\n",
    "    \n",
    "\n",
    "\n",
    "count_words(\"\"\"How much wood would a woodchuck chuck\n",
    "If a woodchuck could chuck wood?\n",
    "He would chuck, he would, as much as he could,\n",
    "And chuck as much as a woodchuck would\n",
    "If a woodchuck could chuck wood.\"\"\")\n"
   ]
  },
  {
   "cell_type": "code",
   "execution_count": null,
   "metadata": {},
   "outputs": [],
   "source": [
    "def count_words():"
   ]
  }
 ],
 "metadata": {
  "kernelspec": {
   "display_name": "Python 3",
   "language": "python",
   "name": "python3"
  },
  "language_info": {
   "codemirror_mode": {
    "name": "ipython",
    "version": 3
   },
   "file_extension": ".py",
   "mimetype": "text/x-python",
   "name": "python",
   "nbconvert_exporter": "python",
   "pygments_lexer": "ipython3",
   "version": "3.8.3-final"
  }
 },
 "nbformat": 4,
 "nbformat_minor": 1
}